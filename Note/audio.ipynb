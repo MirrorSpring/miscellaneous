{
 "cells": [
  {
   "cell_type": "code",
   "execution_count": 4,
   "metadata": {},
   "outputs": [],
   "source": [
    "from pydub import AudioSegment"
   ]
  },
  {
   "cell_type": "code",
   "execution_count": 5,
   "metadata": {},
   "outputs": [
    {
     "data": {
      "text/html": [
       "\n",
       "                    <audio controls>\n",
       "                        <source src=\"data:audio/mpeg;base64,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\" type=\"audio/mpeg\"/>\n",
       "                        Your browser does not support the audio element.\n",
       "                    </audio>\n",
       "                  "
      ],
      "text/plain": [
       "<pydub.audio_segment.AudioSegment at 0x1eaff4927f0>"
      ]
     },
     "execution_count": 5,
     "metadata": {},
     "output_type": "execute_result"
    }
   ],
   "source": [
    "audio_file = AudioSegment.from_file(\"../Data/short.mp3\", format=\"mp3\")\n",
    "audio_file.set_channels(1)"
   ]
  },
  {
   "cell_type": "code",
   "execution_count": 6,
   "metadata": {},
   "outputs": [
    {
     "data": {
      "text/plain": [
       "(86447,)"
      ]
     },
     "execution_count": 6,
     "metadata": {},
     "output_type": "execute_result"
    }
   ],
   "source": [
    "import numpy as np\n",
    "\n",
    "np.frombuffer(audio_file.raw_data,dtype='int').shape"
   ]
  },
  {
   "cell_type": "code",
   "execution_count": 7,
   "metadata": {},
   "outputs": [
    {
     "data": {
      "text/plain": [
       "1801"
      ]
     },
     "execution_count": 7,
     "metadata": {},
     "output_type": "execute_result"
    }
   ],
   "source": [
    "len(audio_file)"
   ]
  },
  {
   "cell_type": "code",
   "execution_count": 8,
   "metadata": {},
   "outputs": [
    {
     "data": {
      "text/plain": [
       "48000"
      ]
     },
     "execution_count": 8,
     "metadata": {},
     "output_type": "execute_result"
    }
   ],
   "source": [
    "audio_file.frame_rate"
   ]
  },
  {
   "cell_type": "code",
   "execution_count": 9,
   "metadata": {},
   "outputs": [
    {
     "data": {
      "text/plain": [
       "2"
      ]
     },
     "execution_count": 9,
     "metadata": {},
     "output_type": "execute_result"
    }
   ],
   "source": [
    "audiochannel=audio_file.channels\n",
    "audiochannel"
   ]
  },
  {
   "cell_type": "code",
   "execution_count": 10,
   "metadata": {},
   "outputs": [
    {
     "data": {
      "text/plain": [
       "86447"
      ]
     },
     "execution_count": 10,
     "metadata": {},
     "output_type": "execute_result"
    }
   ],
   "source": [
    "audiosize=np.frombuffer(audio_file.raw_data,dtype='int').shape[0]\n",
    "audiosize"
   ]
  },
  {
   "cell_type": "code",
   "execution_count": 11,
   "metadata": {},
   "outputs": [],
   "source": [
    "batch_size=3"
   ]
  },
  {
   "cell_type": "code",
   "execution_count": 12,
   "metadata": {},
   "outputs": [],
   "source": [
    "import tensorflow as tf\n",
    "\n",
    "def makebatch():\n",
    "    train=np.zeros(1*audiosize.reshape(1,audiosize,audiochannel))\n",
    "\n",
    "    x_train=train.reshape(train.shape[0],audiosize,audiochannel)\n",
    "    X=x_train\n",
    "    train_dataset=tf.data.Dataset.from_tensor_slices(X).batch(batch_size)\n",
    "\n",
    "    return train_dataset"
   ]
  },
  {
   "cell_type": "code",
   "execution_count": 13,
   "metadata": {},
   "outputs": [],
   "source": [
    "from tensorflow import keras\n",
    "\n",
    "def build_generator_model():\n",
    "    model = keras.Sequential() # Keras 모델 생성\n",
    "    \n",
    "    model.add(keras.layers.Dense(1024, input_dim=100, use_bias=False))\n",
    "    model.add(keras.layers.BatchNormalization())\n",
    "    model.add(keras.layers.LeakyReLU())\n",
    "    \n",
    "    model.add(keras.layers.Dense(audiosize*128, use_bias=False))\n",
    "    model.add(keras.layers.BatchNormalization())\n",
    "    model.add(keras.layers.LeakyReLU())\n",
    "        \n",
    "    model.add(keras.layers.Reshape(audiosize/4, 128))\n",
    "    \n",
    "    model.add(keras.layers.Conv1DTranspose(audiosize*4, 5,\n",
    "                                        strides=1, padding='same', use_bias=False))\n",
    "    model.add(keras.layers.BatchNormalization()) \n",
    "    model.add(keras.layers.LeakyReLU())\n",
    "        \n",
    "    model.add(keras.layers.Conv1DTranspose(audiosize*2, 5,\n",
    "                                        strides=2, padding='same', use_bias=False))\n",
    "    model.add(keras.layers.BatchNormalization())\n",
    "    model.add(keras.layers.LeakyReLU())\n",
    "        \n",
    "    model.add(keras.layers.Conv1DTranspose(audiochannel, 5, \n",
    "                                        strides=2, padding='same', activation='tanh'))\n",
    "    assert model.output_shape == (None, audiosize, audiochannel)\n",
    "    \n",
    "    return model"
   ]
  },
  {
   "cell_type": "code",
   "execution_count": 14,
   "metadata": {},
   "outputs": [],
   "source": [
    "def build_discriminator_model():\n",
    "\n",
    "    model = keras.Sequential()\n",
    "    \n",
    "    model.add(keras.layers.Conv1D(audiosize, 5, strides=2, padding='same',\n",
    "                       input_shape=[audiosize, audiochannel])) # input image size\n",
    "    model.add(keras.layers.LeakyReLU(0.2))\n",
    "    model.add(keras.layers.Dropout(0.3))\n",
    "\n",
    "    model.add(keras.layers.Conv1D(audiosize*4, 5, strides=2, padding='same'))\n",
    "    model.add(keras.layers.LeakyReLU(0.2))\n",
    "    \n",
    "    model.add(keras.layers.Flatten())\n",
    "    \n",
    "    model.add(keras.layers.Dense(audiosize*4*2))\n",
    "    model.add(keras.layers.LeakyReLU(0.2))\n",
    "    model.add(keras.layers.Dropout(0.3))\n",
    "\n",
    "    model.add(keras.layers.Dense(1))\n",
    "    \n",
    "    return model"
   ]
  },
  {
   "cell_type": "code",
   "execution_count": 15,
   "metadata": {},
   "outputs": [],
   "source": [
    "import tensorflow as tf\n",
    "\n",
    "def generator_loss(fake_output):\n",
    "    cross_entropy=keras.losses.BinaryCrossentropy(from_logits=True)\n",
    "    return cross_entropy(tf.ones_like(fake_output),fake_output)"
   ]
  },
  {
   "cell_type": "code",
   "execution_count": 16,
   "metadata": {},
   "outputs": [],
   "source": [
    "def discriminator_loss(real_output,fake_output):\n",
    "    cross_entropy=keras.losses.BinaryCrossentropy(from_logits=True)\n",
    "    real_loss=cross_entropy(tf.ones_like(real_output),real_output) #1과 진짜 이미지 판별 값 비교\n",
    "    fake_loss=cross_entropy(tf.zeros_like(fake_output),fake_output) #0과 가짜 이미지 판별 값 비교\n",
    "    total_loss=real_loss+fake_loss\n",
    "    return total_loss"
   ]
  },
  {
   "cell_type": "code",
   "execution_count": 17,
   "metadata": {},
   "outputs": [
    {
     "ename": "",
     "evalue": "",
     "output_type": "error",
     "traceback": [
      "\u001b[1;31mCanceled future for execute_request message before replies were done"
     ]
    },
    {
     "ename": "",
     "evalue": "",
     "output_type": "error",
     "traceback": [
      "\u001b[1;31mThe Kernel crashed while executing code in the the current cell or a previous cell. Please review the code in the cell(s) to identify a possible cause of the failure. Click <a href='https://aka.ms/vscodeJupyterKernelCrash'>here</a> for more info. View Jupyter <a href='command:jupyter.viewOutput'>log</a> for further details."
     ]
    }
   ],
   "source": [
    "generator=build_generator_model()\n",
    "discriminator=build_discriminator_model()\n",
    "batch_data=makebatch()"
   ]
  },
  {
   "cell_type": "code",
   "execution_count": null,
   "metadata": {},
   "outputs": [],
   "source": [
    "generator_optimizer=keras.optimizers.Adam(1e-4)\n",
    "discriminator_optimizer=keras.optimizers.Adam(1e-4)"
   ]
  },
  {
   "cell_type": "code",
   "execution_count": null,
   "metadata": {},
   "outputs": [],
   "source": [
    "@tf.function\n",
    "def train_step(images):\n",
    "    # 생성자 input noise\n",
    "    noise = tf.random.normal([batch_size, 100])\n",
    "    # Gradient descent 계산 및 파라미터 업데이트\n",
    "    with tf.GradientTape() as gen_tape, tf.GradientTape() as disc_tape:\n",
    "        generated_images = generator(noise, training=True)\n",
    "    \n",
    "        real_output = discriminator(images, training=True)\n",
    "        fake_output = discriminator(generated_images, training=True)\n",
    "    \n",
    "        gen_loss = generator_loss(fake_output)\n",
    "        disc_loss = discriminator_loss(real_output, fake_output)\n",
    "    \n",
    "    gradients_of_generator = gen_tape.gradient(gen_loss, generator.trainable_variables)\n",
    "    gradients_of_discriminator = disc_tape.gradient(disc_loss, discriminator.trainable_variables)\n",
    "    \n",
    "    generator_optimizer.apply_gradients(zip(gradients_of_generator, generator.trainable_variables))\n",
    "    discriminator_optimizer.apply_gradients(zip(gradients_of_discriminator, discriminator.trainable_variables))"
   ]
  },
  {
   "cell_type": "code",
   "execution_count": null,
   "metadata": {},
   "outputs": [],
   "source": [
    "import sounddevice as sd\n",
    "\n",
    "def train(epochs=1000,show_freq=5):\n",
    "    for epoch in range(epochs+1):\n",
    "        for image_batch in batch_data:\n",
    "            train_step(image_batch)\n",
    "        if epoch%show_freq==0:\n",
    "            noise = tf.random.normal([batch_size, 100])\n",
    "            testbatch=generator.predict(noise)\n",
    "            sd.play(testbatch,44100)\n",
    "    print('Done!')"
   ]
  },
  {
   "cell_type": "code",
   "execution_count": null,
   "metadata": {},
   "outputs": [],
   "source": [
    "train()"
   ]
  }
 ],
 "metadata": {
  "kernelspec": {
   "display_name": "base",
   "language": "python",
   "name": "python3"
  },
  "language_info": {
   "codemirror_mode": {
    "name": "ipython",
    "version": 3
   },
   "file_extension": ".py",
   "mimetype": "text/x-python",
   "name": "python",
   "nbconvert_exporter": "python",
   "pygments_lexer": "ipython3",
   "version": "3.9.16"
  },
  "orig_nbformat": 4
 },
 "nbformat": 4,
 "nbformat_minor": 2
}
