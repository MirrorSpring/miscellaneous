{
 "cells": [
  {
   "attachments": {},
   "cell_type": "markdown",
   "metadata": {},
   "source": [
    "# 콘볼루션"
   ]
  },
  {
   "attachments": {},
   "cell_type": "markdown",
   "metadata": {},
   "source": [
    "- 합성곱을 이용한 알고리즘\n",
    "- $n \\times m$ 행렬에 padding 없이 $p \\times p$의 필터로 stride가 $1$인 합성곱을 수행하면 결과는 $(n-p+1) \\times (m-p+1)$의 행렬\n",
    "- 결과 행렬의 $i$행 $j$열 성분은 아래 식과 같다.\n",
    "$$\\sum _{l=0}^{p-1}\\sum _{k=0}^{p-1} d_{lk}f_{(l+1)(k+1)} \\quad (d_{ij}는\\,원본의\\,i행\\,j열,\\, f_{ij}는\\,필터의\\,i행\\,j열)$$\n",
    "- 콘볼루션의 활성화 함수로는 ReLU를 많이 사용한다. ReLU의 식은 다음과 같다.\n",
    "$$f(x)=\\begin{cases}0 \\quad (x<0)\\\\ x \\quad (x \\ge 0)\\end{cases}$$"
   ]
  },
  {
   "attachments": {},
   "cell_type": "markdown",
   "metadata": {},
   "source": [
    "### ReLU"
   ]
  },
  {
   "cell_type": "code",
   "execution_count": 1,
   "metadata": {},
   "outputs": [],
   "source": [
    "def relu(x):\n",
    "    if x<0:\n",
    "        return 0\n",
    "    else:\n",
    "        return x"
   ]
  },
  {
   "attachments": {},
   "cell_type": "markdown",
   "metadata": {},
   "source": [
    "___\n",
    "### Convolution with valid padding"
   ]
  },
  {
   "cell_type": "code",
   "execution_count": 2,
   "metadata": {},
   "outputs": [],
   "source": [
    "import numpy as np\n",
    "\n",
    "def ValidConv(org,fil):\n",
    "    resArray=np.zeros((org.shape[0]-fil.shape[0]+1)*(org.shape[1]-fil.shape[1]+1)).reshape(org.shape[0]-fil.shape[0]+1,org.shape[1]-fil.shape[1]+1)\n",
    "    for k in range(org.shape[0]-fil.shape[0]+1):\n",
    "        for l in range(org.shape[1]-fil.shape[1]+1):\n",
    "            res=0\n",
    "            for y_in in range(fil.shape[0]):\n",
    "                for x_in in range(fil.shape[1]):\n",
    "                    res+=org[k+y_in][l+x_in]*fil[y_in][x_in]\n",
    "                    resArray[k][l]=relu(res)\n",
    "    return resArray"
   ]
  },
  {
   "attachments": {},
   "cell_type": "markdown",
   "metadata": {},
   "source": [
    "### Test"
   ]
  },
  {
   "cell_type": "code",
   "execution_count": 3,
   "metadata": {},
   "outputs": [],
   "source": [
    "orig=np.array([[1,2,3,4,5],[2,3,4,5,6],[3,4,5,6,7],[4,5,6,7,8]])\n",
    "filt=np.array([[1,0,1],[1,1,0],[0,1,0]])"
   ]
  },
  {
   "attachments": {},
   "cell_type": "markdown",
   "metadata": {},
   "source": [
    "원본: 4 $\\times$ 5     \n",
    "필터: 3 $\\times$ 3   \n",
    "결과: 2 $\\times$ 3"
   ]
  },
  {
   "cell_type": "code",
   "execution_count": 4,
   "metadata": {},
   "outputs": [
    {
     "data": {
      "text/plain": [
       "array([[13., 18., 23.],\n",
       "       [18., 23., 28.]])"
      ]
     },
     "execution_count": 4,
     "metadata": {},
     "output_type": "execute_result"
    }
   ],
   "source": [
    "ValidConv(orig,filt)"
   ]
  },
  {
   "attachments": {},
   "cell_type": "markdown",
   "metadata": {},
   "source": [
    "___\n",
    "## Convolution with same padding"
   ]
  },
  {
   "attachments": {},
   "cell_type": "markdown",
   "metadata": {},
   "source": [
    "### Padding 생성\n",
    "- 입력 행렬 상하좌우로 0 추가"
   ]
  },
  {
   "cell_type": "code",
   "execution_count": 5,
   "metadata": {},
   "outputs": [
    {
     "data": {
      "text/plain": [
       "array([[0., 0., 0., 0., 0., 0., 0.],\n",
       "       [0., 1., 2., 3., 4., 5., 0.],\n",
       "       [0., 2., 3., 4., 5., 6., 0.],\n",
       "       [0., 3., 4., 5., 6., 7., 0.],\n",
       "       [0., 4., 5., 6., 7., 8., 0.],\n",
       "       [0., 0., 0., 0., 0., 0., 0.]])"
      ]
     },
     "execution_count": 5,
     "metadata": {},
     "output_type": "execute_result"
    }
   ],
   "source": [
    "pad=np.zeros((orig.shape[0]+filt.shape[0]-1)*(orig.shape[1]+filt.shape[1]-1)).reshape(orig.shape[0]+filt.shape[0]-1,orig.shape[1]+filt.shape[1]-1)\n",
    "\n",
    "for i in range(orig.shape[0]):\n",
    "    for j in range(orig.shape[1]):\n",
    "        pad[1+i][1+j]=orig[i][j]\n",
    "\n",
    "pad"
   ]
  },
  {
   "attachments": {},
   "cell_type": "markdown",
   "metadata": {},
   "source": [
    "### Convolution"
   ]
  },
  {
   "cell_type": "code",
   "execution_count": 6,
   "metadata": {},
   "outputs": [],
   "source": [
    "def Conv(org,fil):\n",
    "    pad=np.zeros((org.shape[0]+fil.shape[0]-1)*(org.shape[1]+fil.shape[1]-1)).reshape(org.shape[0]+fil.shape[0]-1,org.shape[1]+fil.shape[1]-1)\n",
    "\n",
    "    for i in range(org.shape[0]):\n",
    "        for j in range(org.shape[1]):\n",
    "            pad[int(((fil.shape[0]-1)/2)+i)][int(((fil.shape[1]-1)/2)+j)]=org[i][j]\n",
    "\n",
    "    resArray=np.zeros((org.shape[0])*(org.shape[1])).reshape(org.shape[0],org.shape[1])\n",
    "    for k in range(org.shape[0]):\n",
    "        for l in range(org.shape[1]):\n",
    "            res=0\n",
    "            for y_in in range(fil.shape[0]):\n",
    "                for x_in in range(fil.shape[1]):\n",
    "                    res+=pad[k+y_in][l+x_in]*fil[y_in][x_in]\n",
    "                    resArray[k][l]=relu(res)\n",
    "    return resArray"
   ]
  },
  {
   "attachments": {},
   "cell_type": "markdown",
   "metadata": {},
   "source": [
    "### Test"
   ]
  },
  {
   "cell_type": "code",
   "execution_count": 7,
   "metadata": {},
   "outputs": [
    {
     "data": {
      "text/plain": [
       "array([[ 3.,  6.,  9., 12., 15.],\n",
       "       [ 7., 13., 18., 23., 22.],\n",
       "       [10., 18., 23., 28., 26.],\n",
       "       [ 8., 17., 21., 25., 21.]])"
      ]
     },
     "execution_count": 7,
     "metadata": {},
     "output_type": "execute_result"
    }
   ],
   "source": [
    "Conv(orig,filt)"
   ]
  },
  {
   "attachments": {},
   "cell_type": "markdown",
   "metadata": {},
   "source": [
    "___\n",
    "## 실제 이미지로 테스트\n",
    "- MNIST 패션 데이터"
   ]
  },
  {
   "cell_type": "code",
   "execution_count": 8,
   "metadata": {},
   "outputs": [
    {
     "data": {
      "image/png": "[encoded data removed]",
      "text/plain": [
       "<Figure size 1000x500 with 2 Axes>"
      ]
     },
     "metadata": {},
     "output_type": "display_data"
    }
   ],
   "source": [
    "import matplotlib.pyplot as plt\n",
    "from tensorflow import keras\n",
    "\n",
    "(train_input,train_target),(test_input,test_target)=keras.datasets.fashion_mnist.load_data()\n",
    "\n",
    "fig=plt.figure(figsize=(10,5))\n",
    "ax1=fig.add_subplot(1,2,1)\n",
    "ax2=fig.add_subplot(1,2,2)\n",
    "\n",
    "f1=np.array([[35,15,40.7],[0,59,0],[0,-55,-85]])\n",
    "\n",
    "ax1.imshow(train_input[2],cmap='gray')\n",
    "ax1.set_title('Before')\n",
    "ax1.set_axis_off()\n",
    "ax2.imshow(Conv(train_input[2],f1),cmap='gray')\n",
    "ax2.set_title('After')\n",
    "ax2.set_axis_off()\n",
    "plt.suptitle('Convolution')\n",
    "plt.show()"
   ]
  },
  {
   "cell_type": "code",
   "execution_count": 9,
   "metadata": {},
   "outputs": [
    {
     "data": {
      "text/plain": [
       "0"
      ]
     },
     "execution_count": 9,
     "metadata": {},
     "output_type": "execute_result"
    }
   ],
   "source": [
    "train_target[2]"
   ]
  }
 ],
 "metadata": {
  "kernelspec": {
   "display_name": "base",
   "language": "python",
   "name": "python3"
  },
  "language_info": {
   "codemirror_mode": {
    "name": "ipython",
    "version": 3
   },
   "file_extension": ".py",
   "mimetype": "text/x-python",
   "name": "python",
   "nbconvert_exporter": "python",
   "pygments_lexer": "ipython3",
   "version": "3.9.16"
  },
  "orig_nbformat": 4
 },
 "nbformat": 4,
 "nbformat_minor": 2
}
