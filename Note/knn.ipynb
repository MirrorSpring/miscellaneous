{
 "cells": [
  {
   "attachments": {},
   "cell_type": "markdown",
   "metadata": {},
   "source": [
    "# KNN 알고리즘 구현"
   ]
  },
  {
   "attachments": {},
   "cell_type": "markdown",
   "metadata": {},
   "source": [
    "### 데이터 불러오기: Iris"
   ]
  },
  {
   "cell_type": "code",
   "execution_count": 437,
   "metadata": {},
   "outputs": [
    {
     "data": {
      "text/plain": [
       "{'data': array([[5.1, 3.5, 1.4, 0.2],\n",
       "        [4.9, 3. , 1.4, 0.2],\n",
       "        [4.7, 3.2, 1.3, 0.2],\n",
       "        [4.6, 3.1, 1.5, 0.2],\n",
       "        [5. , 3.6, 1.4, 0.2],\n",
       "        [5.4, 3.9, 1.7, 0.4],\n",
       "        [4.6, 3.4, 1.4, 0.3],\n",
       "        [5. , 3.4, 1.5, 0.2],\n",
       "        [4.4, 2.9, 1.4, 0.2],\n",
       "        [4.9, 3.1, 1.5, 0.1],\n",
       "        [5.4, 3.7, 1.5, 0.2],\n",
       "        [4.8, 3.4, 1.6, 0.2],\n",
       "        [4.8, 3. , 1.4, 0.1],\n",
       "        [4.3, 3. , 1.1, 0.1],\n",
       "        [5.8, 4. , 1.2, 0.2],\n",
       "        [5.7, 4.4, 1.5, 0.4],\n",
       "        [5.4, 3.9, 1.3, 0.4],\n",
       "        [5.1, 3.5, 1.4, 0.3],\n",
       "        [5.7, 3.8, 1.7, 0.3],\n",
       "        [5.1, 3.8, 1.5, 0.3],\n",
       "        [5.4, 3.4, 1.7, 0.2],\n",
       "        [5.1, 3.7, 1.5, 0.4],\n",
       "        [4.6, 3.6, 1. , 0.2],\n",
       "        [5.1, 3.3, 1.7, 0.5],\n",
       "        [4.8, 3.4, 1.9, 0.2],\n",
       "        [5. , 3. , 1.6, 0.2],\n",
       "        [5. , 3.4, 1.6, 0.4],\n",
       "        [5.2, 3.5, 1.5, 0.2],\n",
       "        [5.2, 3.4, 1.4, 0.2],\n",
       "        [4.7, 3.2, 1.6, 0.2],\n",
       "        [4.8, 3.1, 1.6, 0.2],\n",
       "        [5.4, 3.4, 1.5, 0.4],\n",
       "        [5.2, 4.1, 1.5, 0.1],\n",
       "        [5.5, 4.2, 1.4, 0.2],\n",
       "        [4.9, 3.1, 1.5, 0.2],\n",
       "        [5. , 3.2, 1.2, 0.2],\n",
       "        [5.5, 3.5, 1.3, 0.2],\n",
       "        [4.9, 3.6, 1.4, 0.1],\n",
       "        [4.4, 3. , 1.3, 0.2],\n",
       "        [5.1, 3.4, 1.5, 0.2],\n",
       "        [5. , 3.5, 1.3, 0.3],\n",
       "        [4.5, 2.3, 1.3, 0.3],\n",
       "        [4.4, 3.2, 1.3, 0.2],\n",
       "        [5. , 3.5, 1.6, 0.6],\n",
       "        [5.1, 3.8, 1.9, 0.4],\n",
       "        [4.8, 3. , 1.4, 0.3],\n",
       "        [5.1, 3.8, 1.6, 0.2],\n",
       "        [4.6, 3.2, 1.4, 0.2],\n",
       "        [5.3, 3.7, 1.5, 0.2],\n",
       "        [5. , 3.3, 1.4, 0.2],\n",
       "        [7. , 3.2, 4.7, 1.4],\n",
       "        [6.4, 3.2, 4.5, 1.5],\n",
       "        [6.9, 3.1, 4.9, 1.5],\n",
       "        [5.5, 2.3, 4. , 1.3],\n",
       "        [6.5, 2.8, 4.6, 1.5],\n",
       "        [5.7, 2.8, 4.5, 1.3],\n",
       "        [6.3, 3.3, 4.7, 1.6],\n",
       "        [4.9, 2.4, 3.3, 1. ],\n",
       "        [6.6, 2.9, 4.6, 1.3],\n",
       "        [5.2, 2.7, 3.9, 1.4],\n",
       "        [5. , 2. , 3.5, 1. ],\n",
       "        [5.9, 3. , 4.2, 1.5],\n",
       "        [6. , 2.2, 4. , 1. ],\n",
       "        [6.1, 2.9, 4.7, 1.4],\n",
       "        [5.6, 2.9, 3.6, 1.3],\n",
       "        [6.7, 3.1, 4.4, 1.4],\n",
       "        [5.6, 3. , 4.5, 1.5],\n",
       "        [5.8, 2.7, 4.1, 1. ],\n",
       "        [6.2, 2.2, 4.5, 1.5],\n",
       "        [5.6, 2.5, 3.9, 1.1],\n",
       "        [5.9, 3.2, 4.8, 1.8],\n",
       "        [6.1, 2.8, 4. , 1.3],\n",
       "        [6.3, 2.5, 4.9, 1.5],\n",
       "        [6.1, 2.8, 4.7, 1.2],\n",
       "        [6.4, 2.9, 4.3, 1.3],\n",
       "        [6.6, 3. , 4.4, 1.4],\n",
       "        [6.8, 2.8, 4.8, 1.4],\n",
       "        [6.7, 3. , 5. , 1.7],\n",
       "        [6. , 2.9, 4.5, 1.5],\n",
       "        [5.7, 2.6, 3.5, 1. ],\n",
       "        [5.5, 2.4, 3.8, 1.1],\n",
       "        [5.5, 2.4, 3.7, 1. ],\n",
       "        [5.8, 2.7, 3.9, 1.2],\n",
       "        [6. , 2.7, 5.1, 1.6],\n",
       "        [5.4, 3. , 4.5, 1.5],\n",
       "        [6. , 3.4, 4.5, 1.6],\n",
       "        [6.7, 3.1, 4.7, 1.5],\n",
       "        [6.3, 2.3, 4.4, 1.3],\n",
       "        [5.6, 3. , 4.1, 1.3],\n",
       "        [5.5, 2.5, 4. , 1.3],\n",
       "        [5.5, 2.6, 4.4, 1.2],\n",
       "        [6.1, 3. , 4.6, 1.4],\n",
       "        [5.8, 2.6, 4. , 1.2],\n",
       "        [5. , 2.3, 3.3, 1. ],\n",
       "        [5.6, 2.7, 4.2, 1.3],\n",
       "        [5.7, 3. , 4.2, 1.2],\n",
       "        [5.7, 2.9, 4.2, 1.3],\n",
       "        [6.2, 2.9, 4.3, 1.3],\n",
       "        [5.1, 2.5, 3. , 1.1],\n",
       "        [5.7, 2.8, 4.1, 1.3],\n",
       "        [6.3, 3.3, 6. , 2.5],\n",
       "        [5.8, 2.7, 5.1, 1.9],\n",
       "        [7.1, 3. , 5.9, 2.1],\n",
       "        [6.3, 2.9, 5.6, 1.8],\n",
       "        [6.5, 3. , 5.8, 2.2],\n",
       "        [7.6, 3. , 6.6, 2.1],\n",
       "        [4.9, 2.5, 4.5, 1.7],\n",
       "        [7.3, 2.9, 6.3, 1.8],\n",
       "        [6.7, 2.5, 5.8, 1.8],\n",
       "        [7.2, 3.6, 6.1, 2.5],\n",
       "        [6.5, 3.2, 5.1, 2. ],\n",
       "        [6.4, 2.7, 5.3, 1.9],\n",
       "        [6.8, 3. , 5.5, 2.1],\n",
       "        [5.7, 2.5, 5. , 2. ],\n",
       "        [5.8, 2.8, 5.1, 2.4],\n",
       "        [6.4, 3.2, 5.3, 2.3],\n",
       "        [6.5, 3. , 5.5, 1.8],\n",
       "        [7.7, 3.8, 6.7, 2.2],\n",
       "        [7.7, 2.6, 6.9, 2.3],\n",
       "        [6. , 2.2, 5. , 1.5],\n",
       "        [6.9, 3.2, 5.7, 2.3],\n",
       "        [5.6, 2.8, 4.9, 2. ],\n",
       "        [7.7, 2.8, 6.7, 2. ],\n",
       "        [6.3, 2.7, 4.9, 1.8],\n",
       "        [6.7, 3.3, 5.7, 2.1],\n",
       "        [7.2, 3.2, 6. , 1.8],\n",
       "        [6.2, 2.8, 4.8, 1.8],\n",
       "        [6.1, 3. , 4.9, 1.8],\n",
       "        [6.4, 2.8, 5.6, 2.1],\n",
       "        [7.2, 3. , 5.8, 1.6],\n",
       "        [7.4, 2.8, 6.1, 1.9],\n",
       "        [7.9, 3.8, 6.4, 2. ],\n",
       "        [6.4, 2.8, 5.6, 2.2],\n",
       "        [6.3, 2.8, 5.1, 1.5],\n",
       "        [6.1, 2.6, 5.6, 1.4],\n",
       "        [7.7, 3. , 6.1, 2.3],\n",
       "        [6.3, 3.4, 5.6, 2.4],\n",
       "        [6.4, 3.1, 5.5, 1.8],\n",
       "        [6. , 3. , 4.8, 1.8],\n",
       "        [6.9, 3.1, 5.4, 2.1],\n",
       "        [6.7, 3.1, 5.6, 2.4],\n",
       "        [6.9, 3.1, 5.1, 2.3],\n",
       "        [5.8, 2.7, 5.1, 1.9],\n",
       "        [6.8, 3.2, 5.9, 2.3],\n",
       "        [6.7, 3.3, 5.7, 2.5],\n",
       "        [6.7, 3. , 5.2, 2.3],\n",
       "        [6.3, 2.5, 5. , 1.9],\n",
       "        [6.5, 3. , 5.2, 2. ],\n",
       "        [6.2, 3.4, 5.4, 2.3],\n",
       "        [5.9, 3. , 5.1, 1.8]]),\n",
       " 'target': array([0, 0, 0, 0, 0, 0, 0, 0, 0, 0, 0, 0, 0, 0, 0, 0, 0, 0, 0, 0, 0, 0,\n",
       "        0, 0, 0, 0, 0, 0, 0, 0, 0, 0, 0, 0, 0, 0, 0, 0, 0, 0, 0, 0, 0, 0,\n",
       "        0, 0, 0, 0, 0, 0, 1, 1, 1, 1, 1, 1, 1, 1, 1, 1, 1, 1, 1, 1, 1, 1,\n",
       "        1, 1, 1, 1, 1, 1, 1, 1, 1, 1, 1, 1, 1, 1, 1, 1, 1, 1, 1, 1, 1, 1,\n",
       "        1, 1, 1, 1, 1, 1, 1, 1, 1, 1, 1, 1, 2, 2, 2, 2, 2, 2, 2, 2, 2, 2,\n",
       "        2, 2, 2, 2, 2, 2, 2, 2, 2, 2, 2, 2, 2, 2, 2, 2, 2, 2, 2, 2, 2, 2,\n",
       "        2, 2, 2, 2, 2, 2, 2, 2, 2, 2, 2, 2, 2, 2, 2, 2, 2, 2])}"
      ]
     },
     "execution_count": 437,
     "metadata": {},
     "output_type": "execute_result"
    }
   ],
   "source": [
    "from sklearn.datasets import load_iris\n",
    "\n",
    "iris_=load_iris()\n",
    "iris={'data':iris_['data'],'target':iris_['target']}\n",
    "iris"
   ]
  },
  {
   "attachments": {},
   "cell_type": "markdown",
   "metadata": {},
   "source": [
    "### 훈련용 데이터와 테스트용 데이터로 분리"
   ]
  },
  {
   "cell_type": "code",
   "execution_count": 438,
   "metadata": {},
   "outputs": [],
   "source": [
    "from sklearn.model_selection import train_test_split\n",
    "\n",
    "train_data,test_data,train_target,test_target=train_test_split(iris['data'],iris['target'],stratify=iris['target'])"
   ]
  },
  {
   "attachments": {},
   "cell_type": "markdown",
   "metadata": {},
   "source": [
    "### 학습: 데이터 저장"
   ]
  },
  {
   "cell_type": "code",
   "execution_count": 439,
   "metadata": {},
   "outputs": [],
   "source": [
    "train={'data':train_data,'target':train_target}"
   ]
  },
  {
   "cell_type": "code",
   "execution_count": 440,
   "metadata": {},
   "outputs": [],
   "source": [
    "#함수로 저장\n",
    "def fit(train_data,train_target):\n",
    "    train={'data':train_data,'target':train_target}"
   ]
  },
  {
   "attachments": {},
   "cell_type": "markdown",
   "metadata": {},
   "source": [
    "### 예측"
   ]
  },
  {
   "attachments": {},
   "cell_type": "markdown",
   "metadata": {},
   "source": [
    "- 각 데이터까지의 거리 구하기"
   ]
  },
  {
   "cell_type": "code",
   "execution_count": 441,
   "metadata": {},
   "outputs": [],
   "source": [
    "import numpy as np\n",
    "\n",
    "def dist(x,y):\n",
    "    return np.sqrt(np.sum([(m2-m1)**2 for (m1,m2) in zip(x,y)]))"
   ]
  },
  {
   "cell_type": "code",
   "execution_count": 442,
   "metadata": {},
   "outputs": [
    {
     "data": {
      "text/plain": [
       "array([5.6, 3. , 4.1, 1.3])"
      ]
     },
     "execution_count": 442,
     "metadata": {},
     "output_type": "execute_result"
    }
   ],
   "source": [
    "test_data[2]"
   ]
  },
  {
   "cell_type": "code",
   "execution_count": 443,
   "metadata": {},
   "outputs": [],
   "source": [
    "dlist={'dist':[],'target':[]}\n",
    "\n",
    "for d,t in zip(train['data'],train['target']):\n",
    "    dlist['dist'].append(dist(test_data[2],d))\n",
    "    dlist['target'].append(t)"
   ]
  },
  {
   "cell_type": "code",
   "execution_count": 444,
   "metadata": {},
   "outputs": [
    {
     "data": {
      "text/plain": [
       "{'dist': [2.9698484809834995,\n",
       "  0.5477225575051655,\n",
       "  0.1732050807568884,\n",
       "  2.3727621035409348,\n",
       "  2.7221315177632395,\n",
       "  1.3820274961085255,\n",
       "  3.0886890422961,\n",
       "  2.677685567799176,\n",
       "  1.8493242008906934,\n",
       "  1.0488088481701519,\n",
       "  2.882707061079915,\n",
       "  0.5744562646538027,\n",
       "  0.469041575982343,\n",
       "  0.1732050807568884,\n",
       "  3.0675723300355937,\n",
       "  0.5477225575051662,\n",
       "  2.0099751242241783,\n",
       "  2.891366458960192,\n",
       "  0.4472135954999582,\n",
       "  3.082207001484488,\n",
       "  1.5394804318340658,\n",
       "  2.796426290821912,\n",
       "  1.191637528781299,\n",
       "  1.2845232578665131,\n",
       "  2.1213203435596433,\n",
       "  1.2206555615733703,\n",
       "  2.9647934160747185,\n",
       "  1.0677078252031316,\n",
       "  1.5842979517754865,\n",
       "  3.036445290137795,\n",
       "  1.0954451150103326,\n",
       "  2.8478061731796283,\n",
       "  0.5099019513592781,\n",
       "  1.1224972160321824,\n",
       "  2.7110883423451915,\n",
       "  1.7320508075688774,\n",
       "  1.7916472867168922,\n",
       "  1.9339079605813718,\n",
       "  0.7937253933193776,\n",
       "  2.924038303442689,\n",
       "  2.1633307652783937,\n",
       "  1.5297058540778357,\n",
       "  3.1543620591175006,\n",
       "  0.4898979485566356,\n",
       "  2.91547594742265,\n",
       "  0.8124038404635965,\n",
       "  3.1464265445104544,\n",
       "  0.8306623862918082,\n",
       "  2.949576240750525,\n",
       "  3.4219877264537355,\n",
       "  3.074085229787879,\n",
       "  2.9883105594967865,\n",
       "  1.2569805089976531,\n",
       "  2.8266588050205144,\n",
       "  2.8896366553599777,\n",
       "  1.7378147196982772,\n",
       "  1.5132745950421556,\n",
       "  1.2569805089976533,\n",
       "  3.0610455730027932,\n",
       "  0.6403124237432855,\n",
       "  2.7874719729532704,\n",
       "  2.3021728866442683,\n",
       "  1.0677078252031313,\n",
       "  3.0951575081084317,\n",
       "  2.5573423705088842,\n",
       "  1.252996408614167,\n",
       "  0.4242640687119284,\n",
       "  1.0344080432788605,\n",
       "  1.4764823060233405,\n",
       "  1.0295630140986995,\n",
       "  2.8948229652260253,\n",
       "  1.5427248620541523,\n",
       "  3.2388269481403293,\n",
       "  2.9966648127543394,\n",
       "  2.39165214862028,\n",
       "  2.3537204591879646,\n",
       "  0.9486832980505138,\n",
       "  3.0512292604784714,\n",
       "  3.1654383582688825,\n",
       "  2.9983328701129897,\n",
       "  1.0148891565092224,\n",
       "  2.8948229652260253,\n",
       "  3.3000000000000003,\n",
       "  2.1236760581595306,\n",
       "  1.0677078252031316,\n",
       "  2.144761058952722,\n",
       "  0.7874007874011809,\n",
       "  2.5961509971494334,\n",
       "  0.5196152422706631,\n",
       "  1.6340134638368191,\n",
       "  1.1575836902790229,\n",
       "  3.4828149534535995,\n",
       "  1.1575836902790226,\n",
       "  1.8894443627691186,\n",
       "  0.37416573867739483,\n",
       "  1.345362404707371,\n",
       "  1.7663521732655696,\n",
       "  0.7874007874011809,\n",
       "  1.3228756555322951,\n",
       "  3.264965543462901,\n",
       "  0.9486832980505141,\n",
       "  0.7141428428542851,\n",
       "  1.6911534525287768,\n",
       "  3.093541659651603,\n",
       "  2.7531799795872405,\n",
       "  2.991655060330318,\n",
       "  0.714142842854285,\n",
       "  0.4582575694955845,\n",
       "  1.9235384061671348,\n",
       "  2.0273134932713295,\n",
       "  3.0740852297878796,\n",
       "  2.0074859899884743],\n",
       " 'target': [0,\n",
       "  1,\n",
       "  1,\n",
       "  2,\n",
       "  0,\n",
       "  2,\n",
       "  0,\n",
       "  0,\n",
       "  2,\n",
       "  1,\n",
       "  0,\n",
       "  1,\n",
       "  1,\n",
       "  1,\n",
       "  2,\n",
       "  1,\n",
       "  2,\n",
       "  2,\n",
       "  1,\n",
       "  0,\n",
       "  1,\n",
       "  0,\n",
       "  1,\n",
       "  2,\n",
       "  2,\n",
       "  2,\n",
       "  0,\n",
       "  2,\n",
       "  2,\n",
       "  0,\n",
       "  1,\n",
       "  0,\n",
       "  1,\n",
       "  1,\n",
       "  0,\n",
       "  2,\n",
       "  2,\n",
       "  2,\n",
       "  1,\n",
       "  0,\n",
       "  2,\n",
       "  2,\n",
       "  0,\n",
       "  1,\n",
       "  0,\n",
       "  1,\n",
       "  0,\n",
       "  1,\n",
       "  0,\n",
       "  2,\n",
       "  0,\n",
       "  0,\n",
       "  1,\n",
       "  2,\n",
       "  0,\n",
       "  2,\n",
       "  2,\n",
       "  1,\n",
       "  0,\n",
       "  1,\n",
       "  0,\n",
       "  2,\n",
       "  1,\n",
       "  0,\n",
       "  0,\n",
       "  2,\n",
       "  1,\n",
       "  1,\n",
       "  1,\n",
       "  2,\n",
       "  0,\n",
       "  1,\n",
       "  0,\n",
       "  0,\n",
       "  2,\n",
       "  2,\n",
       "  1,\n",
       "  0,\n",
       "  0,\n",
       "  0,\n",
       "  1,\n",
       "  0,\n",
       "  2,\n",
       "  2,\n",
       "  2,\n",
       "  2,\n",
       "  1,\n",
       "  0,\n",
       "  1,\n",
       "  2,\n",
       "  2,\n",
       "  0,\n",
       "  1,\n",
       "  2,\n",
       "  1,\n",
       "  1,\n",
       "  2,\n",
       "  1,\n",
       "  1,\n",
       "  0,\n",
       "  2,\n",
       "  1,\n",
       "  2,\n",
       "  0,\n",
       "  0,\n",
       "  0,\n",
       "  1,\n",
       "  1,\n",
       "  2,\n",
       "  2,\n",
       "  0,\n",
       "  2]}"
      ]
     },
     "execution_count": 444,
     "metadata": {},
     "output_type": "execute_result"
    }
   ],
   "source": [
    "dlist"
   ]
  },
  {
   "attachments": {},
   "cell_type": "markdown",
   "metadata": {},
   "source": [
    "### 가장 가까운 점 3개 추출"
   ]
  },
  {
   "cell_type": "code",
   "execution_count": 445,
   "metadata": {},
   "outputs": [
    {
     "data": {
      "text/plain": [
       "array([2, 1, 0], dtype=int64)"
      ]
     },
     "execution_count": 445,
     "metadata": {},
     "output_type": "execute_result"
    }
   ],
   "source": [
    "np.argsort(dlist['dist'][:3])"
   ]
  },
  {
   "cell_type": "code",
   "execution_count": 446,
   "metadata": {},
   "outputs": [],
   "source": [
    "n3_neighbors=[dlist['target'][a] for a in np.array(dlist['dist']).argsort()[:3]]"
   ]
  },
  {
   "cell_type": "code",
   "execution_count": 447,
   "metadata": {},
   "outputs": [
    {
     "data": {
      "text/plain": [
       "[1, 1, 1]"
      ]
     },
     "execution_count": 447,
     "metadata": {},
     "output_type": "execute_result"
    }
   ],
   "source": [
    "n3_neighbors"
   ]
  },
  {
   "attachments": {},
   "cell_type": "markdown",
   "metadata": {},
   "source": [
    "### 가장 개수가 많은 타겟 찾기"
   ]
  },
  {
   "cell_type": "code",
   "execution_count": 448,
   "metadata": {},
   "outputs": [
    {
     "data": {
      "text/plain": [
       "1"
      ]
     },
     "execution_count": 448,
     "metadata": {},
     "output_type": "execute_result"
    }
   ],
   "source": [
    "np.unique(n3_neighbors,return_counts=True)[0][np.argmax(np.unique(n3_neighbors,return_counts=True)[1])]"
   ]
  },
  {
   "attachments": {},
   "cell_type": "markdown",
   "metadata": {},
   "source": [
    "### 실제 값과 비교"
   ]
  },
  {
   "cell_type": "code",
   "execution_count": 449,
   "metadata": {},
   "outputs": [
    {
     "data": {
      "text/plain": [
       "1"
      ]
     },
     "execution_count": 449,
     "metadata": {},
     "output_type": "execute_result"
    }
   ],
   "source": [
    "test_target[2]"
   ]
  },
  {
   "cell_type": "code",
   "execution_count": 450,
   "metadata": {},
   "outputs": [],
   "source": [
    "#함수로 저장\n",
    "def predict(data):\n",
    "    return_list=[]\n",
    "\n",
    "    for dt in data:\n",
    "        d_list={'dist':[],'target':[]}\n",
    "        for d,t in zip(train['data'],train['target']):\n",
    "            d_list['dist'].append(dist(dt,d))\n",
    "            d_list['target'].append(t)\n",
    "    \n",
    "        n_neighbors=[d_list['target'][a] for a in np.argsort(d_list['dist'][:3])]\n",
    "        print(n_neighbors)\n",
    "        return_list.append(np.unique(n_neighbors,return_counts=True)[0][np.argmax(np.unique(n_neighbors,return_counts=True)[1])])\n",
    "    \n",
    "    return return_list"
   ]
  },
  {
   "cell_type": "code",
   "execution_count": 451,
   "metadata": {},
   "outputs": [
    {
     "name": "stdout",
     "output_type": "stream",
     "text": [
      "[1, 1, 0]\n",
      "[1, 1, 0]\n",
      "[1, 1, 0]\n",
      "[0, 1, 1]\n",
      "[0, 1, 1]\n",
      "[0, 1, 1]\n",
      "[0, 1, 1]\n",
      "[1, 1, 0]\n",
      "[0, 1, 1]\n",
      "[1, 1, 0]\n",
      "[1, 1, 0]\n",
      "[1, 1, 0]\n",
      "[0, 1, 1]\n",
      "[1, 1, 0]\n",
      "[1, 1, 0]\n",
      "[1, 1, 0]\n",
      "[0, 1, 1]\n",
      "[1, 1, 0]\n",
      "[1, 1, 0]\n",
      "[1, 1, 0]\n",
      "[0, 1, 1]\n",
      "[1, 1, 0]\n",
      "[1, 1, 0]\n",
      "[1, 1, 0]\n",
      "[0, 1, 1]\n",
      "[1, 1, 0]\n",
      "[0, 1, 1]\n",
      "[1, 1, 0]\n",
      "[1, 1, 0]\n",
      "[1, 1, 0]\n",
      "[1, 1, 0]\n",
      "[1, 1, 0]\n",
      "[1, 1, 0]\n",
      "[0, 1, 1]\n",
      "[0, 1, 1]\n",
      "[0, 1, 1]\n",
      "[1, 1, 0]\n",
      "[1, 1, 0]\n"
     ]
    },
    {
     "data": {
      "text/plain": [
       "[1,\n",
       " 1,\n",
       " 1,\n",
       " 1,\n",
       " 1,\n",
       " 1,\n",
       " 1,\n",
       " 1,\n",
       " 1,\n",
       " 1,\n",
       " 1,\n",
       " 1,\n",
       " 1,\n",
       " 1,\n",
       " 1,\n",
       " 1,\n",
       " 1,\n",
       " 1,\n",
       " 1,\n",
       " 1,\n",
       " 1,\n",
       " 1,\n",
       " 1,\n",
       " 1,\n",
       " 1,\n",
       " 1,\n",
       " 1,\n",
       " 1,\n",
       " 1,\n",
       " 1,\n",
       " 1,\n",
       " 1,\n",
       " 1,\n",
       " 1,\n",
       " 1,\n",
       " 1,\n",
       " 1,\n",
       " 1]"
      ]
     },
     "execution_count": 451,
     "metadata": {},
     "output_type": "execute_result"
    }
   ],
   "source": [
    "predict(test_data)"
   ]
  },
  {
   "cell_type": "code",
   "execution_count": 452,
   "metadata": {},
   "outputs": [
    {
     "data": {
      "text/plain": [
       "array([1, 1, 1, 0, 0, 0, 0, 2, 0, 1, 1, 1, 0, 2, 2, 2, 0, 1, 1, 2, 0, 2,\n",
       "       1, 1, 0, 1, 0, 1, 2, 2, 1, 2, 2, 0, 0, 0, 2, 2])"
      ]
     },
     "execution_count": 452,
     "metadata": {},
     "output_type": "execute_result"
    }
   ],
   "source": [
    "test_target"
   ]
  },
  {
   "cell_type": "code",
   "execution_count": 453,
   "metadata": {},
   "outputs": [],
   "source": [
    "class MyKNNClassifier:\n",
    "    n_neighbors=3\n",
    "    train={}\n",
    "\n",
    "    def __init__(self,n_neighbors=3):\n",
    "        self.n_neighbors=n_neighbors\n",
    "\n",
    "    def fit(self,train_data,train_target):\n",
    "        self.train['data']=train_data\n",
    "        self.train['target']=train_target\n",
    "    \n",
    "    def _dist(self,x,y):\n",
    "        return np.sqrt(np.sum([(m2-m1)**2 for (m1,m2) in zip(x,y)]))\n",
    "\n",
    "    def predict(self,data):\n",
    "        return_list=[]\n",
    "\n",
    "        for dt in data:\n",
    "            d_list={'dist':[],'target':[]}\n",
    "            for d,t in zip(self.train['data'],self.train['target']):\n",
    "                d_list['dist'].append(self._dist(dt,d))\n",
    "                d_list['target'].append(t)\n",
    "    \n",
    "            n_neighbors=[d_list['target'][a] for a in np.array(d_list['dist']).argsort()[:3]]\n",
    "            return_list.append(np.unique(n_neighbors,return_counts=True)[0][np.argmax(np.unique(n_neighbors,return_counts=True)[1])])\n",
    "    \n",
    "        return return_list\n",
    "\n",
    "    def score(self,data,target):\n",
    "        predicted=self.predict(data)\n",
    "        score_list=[a==b for a,b in zip(predicted,target)]\n",
    "        return np.mean(score_list)\n"
   ]
  },
  {
   "cell_type": "code",
   "execution_count": 454,
   "metadata": {},
   "outputs": [
    {
     "data": {
      "text/plain": [
       "0.9736842105263158"
      ]
     },
     "execution_count": 454,
     "metadata": {},
     "output_type": "execute_result"
    }
   ],
   "source": [
    "mknn=MyKNNClassifier(n_neighbors=3)\n",
    "mknn.fit(train_data,train_target)\n",
    "mknn.score(test_data,test_target)"
   ]
  },
  {
   "attachments": {},
   "cell_type": "markdown",
   "metadata": {},
   "source": [
    "### sklearn과 비교"
   ]
  },
  {
   "cell_type": "code",
   "execution_count": 455,
   "metadata": {},
   "outputs": [
    {
     "data": {
      "text/plain": [
       "0.9736842105263158"
      ]
     },
     "execution_count": 455,
     "metadata": {},
     "output_type": "execute_result"
    }
   ],
   "source": [
    "mknn=MyKNNClassifier(n_neighbors=3)\n",
    "mknn.fit(train_data,train_target)\n",
    "mknn.score(test_data,test_target)"
   ]
  },
  {
   "cell_type": "code",
   "execution_count": 456,
   "metadata": {},
   "outputs": [
    {
     "data": {
      "text/plain": [
       "0.9736842105263158"
      ]
     },
     "execution_count": 456,
     "metadata": {},
     "output_type": "execute_result"
    }
   ],
   "source": [
    "from sklearn.neighbors import KNeighborsClassifier\n",
    "\n",
    "knn=KNeighborsClassifier(n_neighbors=3)\n",
    "knn.fit(train_data,train_target)\n",
    "knn.score(test_data,test_target)"
   ]
  }
 ],
 "metadata": {
  "kernelspec": {
   "display_name": "base",
   "language": "python",
   "name": "python3"
  },
  "language_info": {
   "codemirror_mode": {
    "name": "ipython",
    "version": 3
   },
   "file_extension": ".py",
   "mimetype": "text/x-python",
   "name": "python",
   "nbconvert_exporter": "python",
   "pygments_lexer": "ipython3",
   "version": "3.9.16"
  },
  "orig_nbformat": 4
 },
 "nbformat": 4,
 "nbformat_minor": 2
}
