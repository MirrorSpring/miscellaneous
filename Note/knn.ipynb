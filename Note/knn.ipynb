{
 "cells": [
  {
   "attachments": {},
   "cell_type": "markdown",
   "metadata": {},
   "source": [
    "# KNN 알고리즘 구현"
   ]
  },
  {
   "attachments": {},
   "cell_type": "markdown",
   "metadata": {},
   "source": [
    "### 데이터 불러오기: Iris"
   ]
  },
  {
   "cell_type": "code",
   "execution_count": 533,
   "metadata": {},
   "outputs": [],
   "source": [
    "from sklearn.datasets import load_iris\n",
    "\n",
    "iris_=load_iris()\n",
    "iris={'data':iris_['data'],'target':iris_['target']}"
   ]
  },
  {
   "attachments": {},
   "cell_type": "markdown",
   "metadata": {},
   "source": [
    "### 훈련용 데이터와 테스트용 데이터로 분리"
   ]
  },
  {
   "cell_type": "code",
   "execution_count": 534,
   "metadata": {},
   "outputs": [],
   "source": [
    "from sklearn.model_selection import train_test_split\n",
    "\n",
    "train_data,test_data,train_target,test_target=train_test_split(iris['data'],iris['target'],stratify=iris['target'])"
   ]
  },
  {
   "attachments": {},
   "cell_type": "markdown",
   "metadata": {},
   "source": [
    "### 학습: 데이터 저장"
   ]
  },
  {
   "cell_type": "code",
   "execution_count": 535,
   "metadata": {},
   "outputs": [],
   "source": [
    "train={'data':train_data,'target':train_target}"
   ]
  },
  {
   "cell_type": "code",
   "execution_count": 536,
   "metadata": {},
   "outputs": [],
   "source": [
    "#함수로 저장\n",
    "def fit(train_data,train_target):\n",
    "    train={'data':train_data,'target':train_target}"
   ]
  },
  {
   "attachments": {},
   "cell_type": "markdown",
   "metadata": {},
   "source": [
    "### 예측"
   ]
  },
  {
   "attachments": {},
   "cell_type": "markdown",
   "metadata": {},
   "source": [
    "- 각 데이터까지의 거리 구하기"
   ]
  },
  {
   "cell_type": "code",
   "execution_count": 537,
   "metadata": {},
   "outputs": [],
   "source": [
    "import numpy as np\n",
    "\n",
    "def dist(x,y):\n",
    "    return np.sqrt(np.sum([(m2-m1)**2 for (m1,m2) in zip(x,y)]))"
   ]
  },
  {
   "cell_type": "code",
   "execution_count": 538,
   "metadata": {},
   "outputs": [
    {
     "data": {
      "text/plain": [
       "array([7.2, 3. , 5.8, 1.6])"
      ]
     },
     "execution_count": 538,
     "metadata": {},
     "output_type": "execute_result"
    }
   ],
   "source": [
    "test_data[2]"
   ]
  },
  {
   "cell_type": "code",
   "execution_count": 539,
   "metadata": {},
   "outputs": [],
   "source": [
    "dlist={'dist':[],'target':[]}\n",
    "\n",
    "for d,t in zip(train['data'],train['target']):\n",
    "    dlist['dist'].append(dist(test_data[2],d))\n",
    "    dlist['target'].append(t)"
   ]
  },
  {
   "attachments": {},
   "cell_type": "markdown",
   "metadata": {},
   "source": [
    "### 가장 가까운 점 3개의 타겟 추출"
   ]
  },
  {
   "cell_type": "code",
   "execution_count": 540,
   "metadata": {},
   "outputs": [
    {
     "data": {
      "text/plain": [
       "array([0, 1, 2], dtype=int64)"
      ]
     },
     "execution_count": 540,
     "metadata": {},
     "output_type": "execute_result"
    }
   ],
   "source": [
    "np.argsort(dlist['dist'][:3])"
   ]
  },
  {
   "cell_type": "code",
   "execution_count": 541,
   "metadata": {},
   "outputs": [],
   "source": [
    "n3_neighbors=[dlist['target'][a] for a in np.array(dlist['dist']).argsort()[:3]]"
   ]
  },
  {
   "cell_type": "code",
   "execution_count": 542,
   "metadata": {},
   "outputs": [
    {
     "data": {
      "text/plain": [
       "[2, 2, 2]"
      ]
     },
     "execution_count": 542,
     "metadata": {},
     "output_type": "execute_result"
    }
   ],
   "source": [
    "n3_neighbors"
   ]
  },
  {
   "attachments": {},
   "cell_type": "markdown",
   "metadata": {},
   "source": [
    "### 가장 개수가 많은 타겟 찾기"
   ]
  },
  {
   "cell_type": "code",
   "execution_count": 543,
   "metadata": {},
   "outputs": [
    {
     "data": {
      "text/plain": [
       "2"
      ]
     },
     "execution_count": 543,
     "metadata": {},
     "output_type": "execute_result"
    }
   ],
   "source": [
    "np.unique(n3_neighbors,return_counts=True)[0][np.argmax(np.unique(n3_neighbors,return_counts=True)[1])]"
   ]
  },
  {
   "attachments": {},
   "cell_type": "markdown",
   "metadata": {},
   "source": [
    "### 실제 값과 비교"
   ]
  },
  {
   "cell_type": "code",
   "execution_count": 544,
   "metadata": {},
   "outputs": [
    {
     "data": {
      "text/plain": [
       "2"
      ]
     },
     "execution_count": 544,
     "metadata": {},
     "output_type": "execute_result"
    }
   ],
   "source": [
    "test_target[2]"
   ]
  },
  {
   "cell_type": "code",
   "execution_count": 545,
   "metadata": {},
   "outputs": [],
   "source": [
    "#함수로 저장\n",
    "def predict(data):\n",
    "    return_list=[]\n",
    "\n",
    "    for dt in data:\n",
    "        d_list={'dist':[],'target':[]}\n",
    "        for d,t in zip(train['data'],train['target']):\n",
    "            d_list['dist'].append(dist(dt,d))\n",
    "            d_list['target'].append(t)\n",
    "    \n",
    "        n_neighbors=[d_list['target'][a] for a in np.array(d_list['dist']).argsort()[:3]]\n",
    "        return_list.append(np.unique(n_neighbors,return_counts=True)[0][np.argmax(np.unique(n_neighbors,return_counts=True)[1])])\n",
    "    \n",
    "    return return_list"
   ]
  },
  {
   "cell_type": "code",
   "execution_count": 546,
   "metadata": {},
   "outputs": [
    {
     "data": {
      "text/plain": [
       "array([2, 1, 2, 1, 1, 1, 2, 1, 0, 2, 0, 0, 0, 2, 1, 2, 1, 0, 1, 2, 0, 1,\n",
       "       1, 0, 0, 2, 1, 2, 2, 2, 1, 0, 1, 1, 0, 0, 0, 2])"
      ]
     },
     "execution_count": 546,
     "metadata": {},
     "output_type": "execute_result"
    }
   ],
   "source": [
    "np.array(predict(test_data))"
   ]
  },
  {
   "cell_type": "code",
   "execution_count": 547,
   "metadata": {},
   "outputs": [
    {
     "data": {
      "text/plain": [
       "array([2, 2, 2, 1, 1, 1, 2, 1, 0, 2, 0, 0, 0, 2, 1, 2, 1, 0, 1, 2, 0, 1,\n",
       "       1, 0, 0, 2, 1, 2, 2, 2, 1, 0, 1, 1, 0, 0, 0, 2])"
      ]
     },
     "execution_count": 547,
     "metadata": {},
     "output_type": "execute_result"
    }
   ],
   "source": [
    "test_target"
   ]
  },
  {
   "attachments": {},
   "cell_type": "markdown",
   "metadata": {},
   "source": [
    "___\n",
    "### 클래스로 정리"
   ]
  },
  {
   "cell_type": "code",
   "execution_count": 548,
   "metadata": {},
   "outputs": [],
   "source": [
    "class MyKNNClassifier:\n",
    "    n_neighbors=3\n",
    "    train={}\n",
    "\n",
    "    def __init__(self,n_neighbors=3):\n",
    "        self.n_neighbors=n_neighbors\n",
    "\n",
    "    def fit(self,train_data,train_target):\n",
    "        self.train['data']=train_data\n",
    "        self.train['target']=train_target\n",
    "    \n",
    "    def _dist(self,x,y):\n",
    "        return np.sqrt(np.sum([(m2-m1)**2 for (m1,m2) in zip(x,y)]))\n",
    "\n",
    "    def predict(self,data):\n",
    "        return_list=[]\n",
    "\n",
    "        for dt in data:\n",
    "            d_list={'dist':[],'target':[]}\n",
    "            for d,t in zip(self.train['data'],self.train['target']):\n",
    "                d_list['dist'].append(self._dist(dt,d))\n",
    "                d_list['target'].append(t)\n",
    "    \n",
    "            n_neighbors=[d_list['target'][a] for a in np.array(d_list['dist']).argsort()[:3]]\n",
    "            return_list.append(np.unique(n_neighbors,return_counts=True)[0][np.argmax(np.unique(n_neighbors,return_counts=True)[1])])\n",
    "    \n",
    "        return return_list\n",
    "\n",
    "    def score(self,data,target):\n",
    "        predicted=self.predict(data)\n",
    "        score_list=[a==b for a,b in zip(predicted,target)]\n",
    "        return np.mean(score_list)\n"
   ]
  },
  {
   "cell_type": "code",
   "execution_count": 549,
   "metadata": {},
   "outputs": [
    {
     "data": {
      "text/plain": [
       "0.9736842105263158"
      ]
     },
     "execution_count": 549,
     "metadata": {},
     "output_type": "execute_result"
    }
   ],
   "source": [
    "mknn=MyKNNClassifier(n_neighbors=3)\n",
    "mknn.fit(train_data,train_target)\n",
    "mknn.score(test_data,test_target)"
   ]
  },
  {
   "attachments": {},
   "cell_type": "markdown",
   "metadata": {},
   "source": [
    "### sklearn과 비교"
   ]
  },
  {
   "cell_type": "code",
   "execution_count": 550,
   "metadata": {},
   "outputs": [
    {
     "data": {
      "text/plain": [
       "0.9736842105263158"
      ]
     },
     "execution_count": 550,
     "metadata": {},
     "output_type": "execute_result"
    }
   ],
   "source": [
    "from sklearn.neighbors import KNeighborsClassifier\n",
    "\n",
    "knn=KNeighborsClassifier(n_neighbors=3)\n",
    "knn.fit(train_data,train_target)\n",
    "knn.score(test_data,test_target)"
   ]
  }
 ],
 "metadata": {
  "kernelspec": {
   "display_name": "base",
   "language": "python",
   "name": "python3"
  },
  "language_info": {
   "codemirror_mode": {
    "name": "ipython",
    "version": 3
   },
   "file_extension": ".py",
   "mimetype": "text/x-python",
   "name": "python",
   "nbconvert_exporter": "python",
   "pygments_lexer": "ipython3",
   "version": "3.9.16"
  },
  "orig_nbformat": 4
 },
 "nbformat": 4,
 "nbformat_minor": 2
}
